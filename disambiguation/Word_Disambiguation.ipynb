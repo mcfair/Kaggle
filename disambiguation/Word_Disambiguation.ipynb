{
 "cells": [
  {
   "cell_type": "markdown",
   "metadata": {},
   "source": [
    "# WordNet and Word Sense Disambiguation (WSD) with NLTK"
   ]
  },
  {
   "cell_type": "markdown",
   "metadata": {},
   "source": [
    "WordNet is a lexical database for the English language, and it superficially resembles a thesaurus, in that it groups words together based on their meanings. In the WordNet network, the words are connected by linguistic relations, i.e. Synonyms, Meronyms and Holonyms,  Entailments, Similarity, etc.\n",
    "\n",
    "NLTK includes the English WordNet, with 155,287 words and 117,659 synonym sets.\n",
    "https://www.linkedin.com/pulse/wordnet-word-sense-disambiguation-wsd-nltk-aswathi-nambiar/"
   ]
  },
  {
   "cell_type": "code",
   "execution_count": 27,
   "metadata": {},
   "outputs": [],
   "source": [
    "from nltk.corpus import wordnet"
   ]
  },
  {
   "cell_type": "code",
   "execution_count": 19,
   "metadata": {},
   "outputs": [
    {
     "name": "stdout",
     "output_type": "stream",
     "text": [
      "the largest planet and the 5th from the sun; has many satellites and is one of the brightest objects in the night sky\n",
      "(Roman mythology) supreme god of Romans; counterpart of Greek Zeus\n"
     ]
    }
   ],
   "source": [
    "syns = wordnet.synsets(\"jupiter\")\n",
    "for syn in syns:\n",
    "    print syn.definition()"
   ]
  },
  {
   "cell_type": "code",
   "execution_count": 26,
   "metadata": {},
   "outputs": [
    {
     "data": {
      "text/plain": [
       "0.2"
      ]
     },
     "execution_count": 26,
     "metadata": {},
     "output_type": "execute_result"
    }
   ],
   "source": [
    "wordnet.path_similarity(wordnet.synset('dog.n.01'),wordnet.synset('cat.n.01'))"
   ]
  },
  {
   "cell_type": "code",
   "execution_count": 28,
   "metadata": {},
   "outputs": [],
   "source": [
    "import nltk\n",
    "import codecs\n",
    "from nltk.tokenize import PunktSentenceTokenizer\n",
    "from nltk.tokenize import sent_tokenize, word_tokenize\n",
    "from nltk.corpus import stopwords\n",
    "from nltk.stem import WordNetLemmatizer, PorterStemmer\n"
   ]
  },
  {
   "cell_type": "code",
   "execution_count": 3,
   "metadata": {},
   "outputs": [],
   "source": [
    "# Remove Stop Words . Word Stemming . Return new tokenised list.\n",
    "def filteredSentence(sentence):\n",
    "\n",
    "\tlemmatizer = WordNetLemmatizer()   #lemmatizes the words\n",
    "\tps = PorterStemmer()    #stemmer stems the root of the word.\n",
    "\tstop_words = set(stopwords.words(\"english\"))\n",
    "\twords = word_tokenize(sentence)\n",
    "\n",
    "\tfiltered_sent = []\n",
    "\tfor w in words:\n",
    "        \tif w not in stop_words:\n",
    "                \tfiltered_sent.append(lemmatizer.lemmatize(ps.stem(w)))\n",
    "                \tfor i in synonymsCreator(w):\n",
    "                \t\tfiltered_sent.append(i)\n",
    "\treturn filtered_sent"
   ]
  },
  {
   "cell_type": "code",
   "execution_count": 4,
   "metadata": {},
   "outputs": [],
   "source": [
    "# Add synonyms to match list\n",
    "def synonymsCreator(word):\n",
    "\tsynonyms = []\n",
    "\n",
    "\tfor syn in wordnet.synsets(word):\n",
    "\t\tfor i in syn.lemmas():\n",
    "\t\t\tsynonyms.append(i.name())\n",
    "\n",
    "\treturn synonyms\n"
   ]
  },
  {
   "cell_type": "code",
   "execution_count": 5,
   "metadata": {},
   "outputs": [],
   "source": [
    "# Cehck and return similarity\n",
    "def simlilarityCheck(word1, word2):\n",
    "\n",
    "\tword1 = word1 + \".n.01\"\n",
    "\tword2 = word2 + \".n.01\"\n",
    "\ttry:\n",
    "\t\tw1 = wordnet.synset(word1)\n",
    "\t\tw2 = wordnet.synset(word2)\n",
    "\n",
    "\t\treturn w1.wup_similarity(w2)\n",
    "\n",
    "\texcept:\n",
    "\t\treturn 0"
   ]
  },
  {
   "cell_type": "code",
   "execution_count": 10,
   "metadata": {},
   "outputs": [],
   "source": [
    "def simpleFilter(sentence):\n",
    "\n",
    "\tfiltered_sent = []\n",
    "\tlemmatizer = WordNetLemmatizer()\n",
    "\tstop_words = set(stopwords.words(\"english\"))\n",
    "\twords = word_tokenize(sentence)\n",
    "\n",
    "\tfor w in words:\n",
    "        \tif w not in stop_words:\n",
    "                \tfiltered_sent.append(lemmatizer.lemmatize(w))\n",
    "                \t# for i in synonymsCreator(w):\n",
    "                \t# \tfiltered_sent.append(i)\n",
    "\treturn filtered_sent"
   ]
  },
  {
   "cell_type": "code",
   "execution_count": 30,
   "metadata": {},
   "outputs": [
    {
     "name": "stdout",
     "output_type": "stream",
     "text": [
      "Money Bank\n"
     ]
    }
   ],
   "source": [
    "sent1 = \"the commercial banks are used for finance. all the financial matters are managed by financial banks and they have lots of money, user accounts like salary account and savings account, current account. money can also be withdrawn from this bank.\"\n",
    "sent2 = \"the river bank has water in it and it has fishes trees . lots of water is stored in the banks. boats float in it and animals come and drink water from it.\"\n",
    "sent3 = \"from which bank should i withdraw money\"\n",
    "\n",
    "\n",
    "filtered_sent1 = simpleFilter(sent1)\n",
    "filtered_sent2 = simpleFilter(sent2)\n",
    "filtered_sent3 = simpleFilter(sent3)\n",
    "\n",
    "counter1 = 0\n",
    "counter2 = 0\n",
    "sent31_similarity = 0\n",
    "sent32_similarity = 0\n",
    "\n",
    "for i in filtered_sent3:\n",
    "\n",
    "    for j in filtered_sent1:\n",
    "        counter1 = counter1 + 1\n",
    "        sent31_similarity = sent31_similarity + simlilarityCheck(i,j)\n",
    "\n",
    "    for j in filtered_sent2:\n",
    "        counter2 = counter2 + 1\n",
    "        sent32_similarity = sent32_similarity + simlilarityCheck(i,j)\n",
    "\n",
    "        \n",
    "filtered_sent1 = filteredSentence(sent1)\n",
    "filtered_sent2 = filteredSentence(sent2)\n",
    "filtered_sent3 = filteredSentence(sent3)\n",
    "\n",
    "sent1_count = 0\n",
    "sent2_count = 0\n",
    "\n",
    "for i in filtered_sent3:\n",
    "\n",
    "    for j in filtered_sent1:\n",
    "\n",
    "        if(i==j):\n",
    "            sent1_count = sent1_count + 1\n",
    "\n",
    "    for j in filtered_sent2:\n",
    "        if(i==j):\n",
    "            sent2_count = sent2_count + 1\n",
    "\n",
    "if((sent1_count + sent31_similarity)>(sent2_count+sent32_similarity)):\n",
    "    print \"Money Bank\"\n",
    "else:\n",
    "    print \"River Bank\"\n"
   ]
  },
  {
   "cell_type": "markdown",
   "metadata": {},
   "source": [
    "## CountVectorizer, TfidfVectorizer DO NOT WORK"
   ]
  },
  {
   "cell_type": "code",
   "execution_count": 28,
   "metadata": {},
   "outputs": [],
   "source": [
    "from sklearn.feature_extraction.text import CountVectorizer, TfidfVectorizer\n",
    "from scipy.spatial.distance import cosine"
   ]
  },
  {
   "cell_type": "code",
   "execution_count": 42,
   "metadata": {},
   "outputs": [],
   "source": [
    "tfidf = TfidfVectorizer(sublinear_tf=True, min_df=1, max_df=0.5, max_features=150,\n",
    "                        encoding='utf-8', norm='l2', \n",
    "                        ngram_range=(1, 3), stop_words='english', lowercase=True)\n",
    "cntvec = CountVectorizer(stop_words='english',ngram_range=(1, 3))"
   ]
  },
  {
   "cell_type": "code",
   "execution_count": 45,
   "metadata": {},
   "outputs": [],
   "source": [
    "v1, v2  = tfidf.fit_transform([sent1, sent2 ]).toarray()\n",
    "v3 = tfidf.transform([sent3]).toarray()"
   ]
  },
  {
   "cell_type": "code",
   "execution_count": 51,
   "metadata": {},
   "outputs": [],
   "source": [
    "v1, v2, v3  = cntvec.fit_transform([sent1, sent2, sent3 ]).toarray()\n",
    " "
   ]
  },
  {
   "cell_type": "code",
   "execution_count": 52,
   "metadata": {},
   "outputs": [
    {
     "data": {
      "text/plain": [
       "(0.8613249509436927, 0.9410744349011211)"
      ]
     },
     "execution_count": 52,
     "metadata": {},
     "output_type": "execute_result"
    }
   ],
   "source": [
    "cosine(v1,v3) , cosine(v2,v3)"
   ]
  },
  {
   "cell_type": "code",
   "execution_count": null,
   "metadata": {},
   "outputs": [],
   "source": []
  }
 ],
 "metadata": {
  "kernelspec": {
   "display_name": "Python 2",
   "language": "python",
   "name": "python2"
  },
  "language_info": {
   "codemirror_mode": {
    "name": "ipython",
    "version": 2
   },
   "file_extension": ".py",
   "mimetype": "text/x-python",
   "name": "python",
   "nbconvert_exporter": "python",
   "pygments_lexer": "ipython2",
   "version": "2.7.5"
  }
 },
 "nbformat": 4,
 "nbformat_minor": 2
}
