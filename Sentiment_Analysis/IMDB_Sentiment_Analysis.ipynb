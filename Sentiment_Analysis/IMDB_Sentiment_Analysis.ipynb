{
 "cells": [
  {
   "cell_type": "code",
   "execution_count": 1,
   "metadata": {},
   "outputs": [
    {
     "name": "stderr",
     "output_type": "stream",
     "text": [
      "/usr/lib64/python2.7/site-packages/sklearn/ensemble/weight_boosting.py:29: DeprecationWarning: numpy.core.umath_tests is an internal NumPy module and should not be imported. It will be removed in a future NumPy release.\n",
      "  from numpy.core.umath_tests import inner1d\n"
     ]
    }
   ],
   "source": [
    "%matplotlib inline\n",
    "import json\n",
    "import numpy as np\n",
    "import pandas as pd\n",
    "import matplotlib.pyplot as plt\n",
    "\n",
    "from time import time   \n",
    "from sklearn.svm import LinearSVC, SVC\n",
    "from sklearn.preprocessing import Binarizer\n",
    "from sklearn.linear_model import LogisticRegression\n",
    "from sklearn.datasets import load_svmlight_files \n",
    "from sklearn.tree import DecisionTreeClassifier\n",
    "from sklearn.metrics import roc_curve\n",
    "from sklearn.decomposition import NMF\n",
    "from sklearn.model_selection import train_test_split, cross_val_score\n",
    "from sklearn.feature_extraction.text import TfidfTransformer\n",
    "from sklearn.ensemble import RandomForestClassifier\n",
    "\n",
    "from __future__ import print_function"
   ]
  },
  {
   "cell_type": "markdown",
   "metadata": {},
   "source": [
    "## Load data and preprocessing"
   ]
  },
  {
   "cell_type": "code",
   "execution_count": 2,
   "metadata": {},
   "outputs": [],
   "source": [
    "training_data, raw_training_target, testing_data, raw_testing_target = load_svmlight_files(\n",
    "    files= [\"../data/imdb/train/labeledBow.feat\",\"../data/imdb/test/labeledBow.feat\"], \n",
    "    n_features=None, dtype=None)"
   ]
  },
  {
   "cell_type": "code",
   "execution_count": 3,
   "metadata": {},
   "outputs": [],
   "source": [
    "tfidf = TfidfTransformer(sublinear_tf=True, norm='l2')"
   ]
  },
  {
   "cell_type": "code",
   "execution_count": 4,
   "metadata": {},
   "outputs": [
    {
     "name": "stdout",
     "output_type": "stream",
     "text": [
      "(25000, 89527) (25000, 89527)\n"
     ]
    }
   ],
   "source": [
    "training_data = tfidf.fit_transform(training_data)\n",
    "testing_data = tfidf.transform(testing_data)\n",
    "print (training_data.shape, testing_data.shape)"
   ]
  },
  {
   "cell_type": "code",
   "execution_count": null,
   "metadata": {},
   "outputs": [],
   "source": [
    "factorize_matrix = NMF(n_components=1500)\n",
    "training_data = factorize_matrix.fit_transform(training_data)\n",
    "\n",
    "factorize_matrix = NMF(n_components=1500)\n",
    "testing_data = factorize_matrix.fit_transform(testing_data)"
   ]
  },
  {
   "cell_type": "code",
   "execution_count": null,
   "metadata": {},
   "outputs": [],
   "source": [
    "# Binerize label\n",
    "training_target = np.array(raw_training_target>5)\n",
    "testing_target =  np.array(raw_testing_target>5)\n",
    "print (training_target.shape, testing_target.shape)"
   ]
  },
  {
   "cell_type": "code",
   "execution_count": null,
   "metadata": {},
   "outputs": [],
   "source": [
    "labels, counts =  np.unique(training_target, return_counts=True)\n",
    "print(labels)\n",
    "print(counts)"
   ]
  },
  {
   "cell_type": "markdown",
   "metadata": {},
   "source": [
    "## Classification"
   ]
  },
  {
   "cell_type": "code",
   "execution_count": null,
   "metadata": {},
   "outputs": [],
   "source": [
    "class Classifiers(object):\n",
    "    # Train and test Logistic Regression Classifier\n",
    "    def lrc(self, training_data, training_target, testing_data, testing_target):\n",
    "        start = time()\n",
    "        logreg = LogisticRegression()\n",
    "        logreg.fit(training_data, training_target)    \n",
    "        logreg_accuracy = logreg.score(testing_data, testing_target) * 100\n",
    "        end = time()\n",
    "        return [logreg, round(logreg_accuracy,2), str(round((end-start), 2))]\n",
    "    \n",
    "    # Train and test Linear SVM Classifier with and without parameter \n",
    "    def lSVC(self, training_data, training_target, testing_data, testing_target, parameter=False):\n",
    "        start = time()\n",
    "        if parameter == True:        \n",
    "            result_lSVC= self.lSVC_para(training_data, training_target, testing_data, testing_target)\n",
    "            end = time()\n",
    "            return [result_lSVC[0], round(result_lSVC[1],2), result_lSVC[2], str(round((end-start), 2))]\n",
    "        else:\n",
    "            clf_linear = LinearSVC()\n",
    "      \n",
    "            clf_linear.fit(training_data, training_target)\n",
    "        \n",
    "            result_lSVC = clf_linear.score(testing_data, testing_target)*100    \n",
    "            end = time()\n",
    "            return [clf_linear, round(result_lSVC,2), str(round((end-start), 2))]\n",
    "    \n",
    "    # Calculating best parameter for LinearSVC Classifier\n",
    "    def lSVC_para(self, training_data, training_target, testing_data, testing_target):\n",
    "        #print(\"Calculating best parameter for LinearSVC Classifier ...\")\n",
    "        clist = 2**np.array(range(-2, 10), dtype='float')\n",
    "        cvscores = []\n",
    "        for c in clist:\n",
    "            #print(c)\n",
    "            clf= LinearSVC(C=c)\n",
    "            scores = cross_val_score(clf, training_data, training_target, cv=3)\n",
    "            #print(\"score\", scores)\n",
    "            cvscores.append(scores.mean()*100)\n",
    "            bestscore, bestC = max([(val, clist[idx]) for (idx, val) in enumerate(cvscores)])\n",
    "        #print('Best CV accuracy =', round(bestscore,2), '% achieved at C =', bestC)\n",
    "\n",
    "        # Retrain on whole trainning set using best C value obtained from Cross validation\n",
    "        #print(\"Retrain on whole trainning set using best C value obtained from Cross validation\")\n",
    "        clf = LinearSVC(C=bestC)\n",
    "        clf.fit(training_data, training_target)\n",
    "        accu = clf.score(testing_data, testing_target)*100\n",
    "        return [clf, accu, bestC]\n",
    "\n",
    "    # Train and test Random Forest Classifier\n",
    "    def random_forest(self, training_data, training_target, testing_data, testing_target):\n",
    "        start = time()\n",
    "        clf_forest = RandomForestClassifier(n_estimators = 100, min_samples_leaf=5, max_features='auto', max_depth=16)\n",
    "        clf_forest.fit(training_data, training_target)\n",
    "        clf_forest_accuracy = clf_forest.score(testing_data, testing_target)*100\n",
    "        end = time()\n",
    "        return [clf_forest, round(clf_forest_accuracy,2),str(round((end-start), 2))]\n",
    "\n",
    "    # Train and test Kernel SVM Classifier\n",
    "    def kernel_SVM(self, training_data, training_target, testing_data, testing_target):\n",
    "        start = time()\n",
    "        clf_kernel = SVC()\n",
    "        clf_kernel.fit(training_data, training_target)\n",
    "        end = time()\n",
    "        clf_kernel_accuracy = clf_kernel.score(testing_data, testing_target)*100\n",
    "        end = time() \n",
    "        return [clf_kernel, round(clf_kernel_accuracy,2),str(round((end-start), 2))]\n",
    "    \n",
    "    # Prediction from Random Forest \n",
    "    def prediction(self, obj_clf,fileName,labels):\n",
    "        pre = obj_clf.predict(testing_data)\n",
    "    \n",
    "        prediction_result = []\n",
    "        for i in range(len(pre)):\n",
    "            if pre[i] == 0:\n",
    "                prediction_result.append(str(i) + \", negative\") \n",
    "            else:\n",
    "                prediction_result.append(str(i) + \", positive\") \n",
    "        self.save_csv(prediction_result, fileName, labels)\n",
    "        \n",
    "    # Storing prediction in CSV file\n",
    "    def save_csv(self, prediction_result, fileName, labels):\n",
    "        print(\"Creating CSV file\")\n",
    "        # Open File\n",
    "        output_file = open(fileName+\".csv\",'w')\n",
    "        output_file.write(','.join(labels)+\"\\n\")\n",
    "        # Write data to file\n",
    "        for r in prediction_result:\n",
    "            output_file.write(r + \"\\n\")\n",
    "        output_file.close()\n",
    "        print(\"File saved!\")"
   ]
  },
  {
   "cell_type": "code",
   "execution_count": null,
   "metadata": {},
   "outputs": [],
   "source": [
    "sa = Classifiers()\n",
    "\n",
    "result = sa.lrc(training_data, training_target, testing_data, testing_target)\n",
    "print(\"Logistic Regression, Accuracy = %f\"%result[1], \" Time =\", result[2],\"seconds\\n\")\n",
    "\n",
    "result = sa.lSVC(training_data, training_target, testing_data, testing_target)\n",
    "print(\"Linear SVM, Accuracy = %f\"%result[1], \" Time =\", result[2],\"seconds\\n\")\n",
    "\n",
    "result = sa.random_forest(training_data, training_target, testing_data, testing_target)\n",
    "print(\"Random Forest, Accuracy = %f\"%result[1], \" Time =\", result[2],\"seconds\\n\")\n",
    "\n",
    "##Too slow\n",
    "#result = sa.kernel_SVM(training_data, training_target, testing_data, testing_target)\n",
    "#print(\"Linear SVM, Accuracy = %f\"%result[1], \" Time =\", result[2],\"seconds\\n\")\n"
   ]
  },
  {
   "cell_type": "code",
   "execution_count": null,
   "metadata": {},
   "outputs": [],
   "source": [
    "print(\"Linear SVM Classifier With Parameter Selection\")\n",
    "result = sa.lSVC(training_data, training_target, testing_data, testing_target, True)\n",
    "obj_lSVC_para = result[0]\n",
    "print(\"Accuracy = %f\"%result[1], \" at Best C =\", result[2],\"Time =\", result[3],\"seconds\")\n",
    "\n"
   ]
  },
  {
   "cell_type": "code",
   "execution_count": null,
   "metadata": {},
   "outputs": [],
   "source": []
  },
  {
   "cell_type": "code",
   "execution_count": null,
   "metadata": {},
   "outputs": [],
   "source": []
  }
 ],
 "metadata": {
  "kernelspec": {
   "display_name": "Python 2",
   "language": "python",
   "name": "python2"
  },
  "language_info": {
   "codemirror_mode": {
    "name": "ipython",
    "version": 2
   },
   "file_extension": ".py",
   "mimetype": "text/x-python",
   "name": "python",
   "nbconvert_exporter": "python",
   "pygments_lexer": "ipython2",
   "version": "2.7.5"
  }
 },
 "nbformat": 4,
 "nbformat_minor": 2
}
