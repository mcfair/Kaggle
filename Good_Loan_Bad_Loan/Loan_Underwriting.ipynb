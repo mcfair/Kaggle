{
 "cells": [
  {
   "cell_type": "code",
   "execution_count": 16,
   "metadata": {},
   "outputs": [],
   "source": [
    "from __future__ import print_function\n",
    "import numpy as np\n",
    "import pandas as pd \n",
    "from sklearn.model_selection import train_test_split, cross_val_score\n",
    "from sklearn.preprocessing import StandardScaler, OneHotEncoder\n",
    "from sklearn.neighbors import KNeighborsClassifier\n",
    "from sklearn.svm import SVC \n",
    "from sklearn.gaussian_process.kernels import RBF\n",
    "from sklearn.tree import DecisionTreeClassifier\n",
    "from sklearn.ensemble import RandomForestClassifier, AdaBoostClassifier\n",
    "from sklearn.naive_bayes import GaussianNB\n",
    "from sklearn.linear_model import LogisticRegression\n"
   ]
  },
  {
   "cell_type": "code",
   "execution_count": 11,
   "metadata": {},
   "outputs": [],
   "source": [
    "X = pd.read_csv('X.csv')\n",
    "y = pd.read_csv('y.csv')\n",
    "y['cid'] = y['idLoan'].apply(lambda x:x[:-3].lower())"
   ]
  },
  {
   "cell_type": "code",
   "execution_count": 12,
   "metadata": {},
   "outputs": [],
   "source": [
    "data = pd.merge(X, y, on='cid', how='inner')\n",
    "y = data['label']\n",
    "data = data.drop(['label','cid','idLoan','how_use_money'],axis=1)\n",
    "X = StandardScaler().fit_transform(data)"
   ]
  },
  {
   "cell_type": "code",
   "execution_count": 13,
   "metadata": {},
   "outputs": [
    {
     "data": {
      "text/plain": [
       "((656, 39), (656,))"
      ]
     },
     "execution_count": 13,
     "metadata": {},
     "output_type": "execute_result"
    }
   ],
   "source": [
    "data.shape, y.shape"
   ]
  },
  {
   "cell_type": "code",
   "execution_count": 14,
   "metadata": {},
   "outputs": [],
   "source": [
    "X_train, X_test, y_train, y_test =  train_test_split(X, y, test_size=.3)"
   ]
  },
  {
   "cell_type": "code",
   "execution_count": 2,
   "metadata": {},
   "outputs": [],
   "source": [
    "algos = [\"Nearest Neighbors\", \"Linear SVM\",\n",
    "         \"Decision Tree\", \"Random Forest\", \"Logistic Regression\"]\n",
    "\n",
    "classifiers = [\n",
    "    KNeighborsClassifier(3 ),\n",
    "    SVC(kernel=\"linear\", C=0.01), \n",
    "    DecisionTreeClassifier(max_depth=5,min_samples_leaf=30),\n",
    "    RandomForestClassifier(max_depth=10,min_samples_leaf=30, n_estimators=20),\n",
    "    LogisticRegression(penalty='l1')]\n"
   ]
  },
  {
   "cell_type": "code",
   "execution_count": 17,
   "metadata": {},
   "outputs": [
    {
     "name": "stdout",
     "output_type": "stream",
     "text": [
      "\n",
      " **** cross-validation metric: ****\n",
      "\n",
      "Nearest Neighbors accuracy = 0.584\n",
      "Nearest Neighbors precision= 0.616\n",
      "Nearest Neighbors recall   = 0.663\n",
      "Nearest Neighbors f1 score = 0.638\n",
      "\n",
      "Linear SVM accuracy = 0.575\n",
      "Linear SVM precision= 0.580\n",
      "Linear SVM recall   = 0.855\n",
      "Linear SVM f1 score = 0.691\n",
      "\n",
      "Decision Tree accuracy = 0.521\n",
      "Decision Tree precision= 0.574\n",
      "Decision Tree recall   = 0.537\n",
      "Decision Tree f1 score = 0.550\n",
      "\n",
      "Random Forest accuracy = 0.575\n",
      "Random Forest precision= 0.592\n",
      "Random Forest recall   = 0.769\n",
      "Random Forest f1 score = 0.655\n",
      "\n",
      "Logistic Regression accuracy = 0.577\n",
      "Logistic Regression precision= 0.604\n",
      "Logistic Regression recall   = 0.694\n",
      "Logistic Regression f1 score = 0.646\n"
     ]
    }
   ],
   "source": [
    "print ('\\n', '**** cross-validation metric: ****')\n",
    "for name, clf in zip(algos, classifiers):\n",
    "    acc = cross_val_score(clf, X_train, y_train, cv= 3, scoring='accuracy')\n",
    "    pre = cross_val_score(clf, X_train, y_train, cv= 3, scoring='precision')\n",
    "    rec = cross_val_score(clf, X_train, y_train, cv= 3, scoring='recall')\n",
    "    f1score = cross_val_score(clf, X_train, y_train, cv= 3, scoring='f1')\n",
    "    print()\n",
    "    print(name, 'accuracy = %.3f'%np.mean(acc))\n",
    "    print(name, 'precision= %.3f'%np.mean(pre))\n",
    "    print(name, 'recall   = %.3f'%np.mean(rec))\n",
    "    print(name, 'f1 score = %.3f'%np.mean(f1score))"
   ]
  },
  {
   "cell_type": "code",
   "execution_count": 18,
   "metadata": {},
   "outputs": [
    {
     "name": "stdout",
     "output_type": "stream",
     "text": [
      "\n",
      " **** out-sample test accuracy: ****\n",
      "Nearest Neighbors : train= 0.780 , test= 0.497\n",
      "Linear SVM : train= 0.627 , test= 0.624\n",
      "Decision Tree : train= 0.682 , test= 0.563\n",
      "Random Forest : train= 0.678 , test= 0.599\n",
      "Logistic Regression : train= 0.643 , test= 0.614\n"
     ]
    }
   ],
   "source": [
    "print ('\\n', '**** out-sample test accuracy: ****')\n",
    "for name, clf in zip(algos, classifiers):\n",
    "    clf.fit(X_train, y_train)\n",
    "    train_score = clf.score(X_train, y_train)\n",
    "    test_score = clf.score(X_test, y_test)\n",
    "    print(name,': train= %.3f'%train_score, ', test= %.3f'%test_score)"
   ]
  },
  {
   "cell_type": "code",
   "execution_count": null,
   "metadata": {},
   "outputs": [],
   "source": []
  }
 ],
 "metadata": {
  "kernelspec": {
   "display_name": "Python 2",
   "language": "python",
   "name": "python2"
  },
  "language_info": {
   "codemirror_mode": {
    "name": "ipython",
    "version": 2
   },
   "file_extension": ".py",
   "mimetype": "text/x-python",
   "name": "python",
   "nbconvert_exporter": "python",
   "pygments_lexer": "ipython2",
   "version": "2.7.5"
  }
 },
 "nbformat": 4,
 "nbformat_minor": 2
}
